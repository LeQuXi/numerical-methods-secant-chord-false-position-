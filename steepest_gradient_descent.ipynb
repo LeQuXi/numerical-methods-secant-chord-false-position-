{
  "nbformat": 4,
  "nbformat_minor": 0,
  "metadata": {
    "colab": {
      "name": "steepest gradient descent",
      "provenance": [],
      "collapsed_sections": [],
      "authorship_tag": "ABX9TyPjOeQ/nNjdJnbEDlEl4mMu",
      "include_colab_link": true
    },
    "kernelspec": {
      "name": "python3",
      "display_name": "Python 3"
    },
    "language_info": {
      "name": "python"
    }
  },
  "cells": [
    {
      "cell_type": "markdown",
      "metadata": {
        "id": "view-in-github",
        "colab_type": "text"
      },
      "source": [
        "<a href=\"https://colab.research.google.com/github/LeQuXi/numerical-methods-secant-chord-false-position-/blob/main/steepest_gradient_descent.ipynb\" target=\"_parent\"><img src=\"https://colab.research.google.com/assets/colab-badge.svg\" alt=\"Open In Colab\"/></a>"
      ]
    },
    {
      "cell_type": "markdown",
      "metadata": {
        "id": "uORs4QKG4PUl"
      },
      "source": [
        "Steepest gradient descent: \n",
        "\n",
        "\n",
        "\n",
        "\n",
        "\n",
        "\n"
      ]
    },
    {
      "cell_type": "code",
      "metadata": {
        "colab": {
          "base_uri": "https://localhost:8080/"
        },
        "id": "NokPfkTTwqyK",
        "outputId": "e8f076f5-04ad-4214-da03-9f46878d8be3"
      },
      "source": [
        "import numpy as np\n",
        "def LineSearch(df, x0, x1, max=100, eps=1e-3):\n",
        "  for i in range(max):\n",
        "    y0=df(x0)\n",
        "    y1=df(x1)\n",
        "    x=(x0*y1-x1*y0)/(y1-y0)\n",
        "    y=df(x)\n",
        "    if np.abs(x-x1)/np.abs(x1)<eps:\n",
        "       break\n",
        "    x0=x1\n",
        "    x1=x\n",
        "    y0=y1\n",
        "    y1=y\n",
        "  return x\n",
        "def df(x):\n",
        "  return 2*(x-1)\n",
        "\n",
        "x=LineSearch(df, 2, 3)\n",
        "print(x)\n",
        "\n",
        "def SteepestDescent(func, grad, x0, max=100, eps=1e-3):\n",
        "  for i in range(max):\n",
        "    g=grad(x0)\n",
        "    def d_ls_func(a): \n",
        "      return np.dot(g.T, grad(x0-a*g))\n",
        "\n",
        "    step_size=LineSearch(d_ls_func,1,2,30,1e-2)\n",
        "    x=x0-step_size*g\n",
        "    if np.linalg.norm(x-x0) / np.linalg.norm(x0)<eps:\n",
        "      break\n",
        "\n",
        "    x0=x\n",
        "  return x\n",
        "\n",
        "def func(x):\n",
        "  x1=x[0].item()\n",
        "  x2=x[1].item()\n",
        "  x3=x[2].item()\n",
        "  x4=x[3].item()\n",
        "  y= (x1-4)**4(x2-3)**2 +4*(x3+5)**4\n",
        "  return y\n",
        "\n",
        "def grad(x):\n",
        "  x1=x[0].item()\n",
        "  x2=x[1].item()\n",
        "  x3=x[2].item()\n",
        "  #x4=x[3].item()\n",
        "  #y= (x1-4)**4(x2-3)**2 +4*(x3+5)**4\n",
        "  g =np.zeros((3,1))\n",
        "  g[0]=4*((x1-4)**3)\n",
        "  g[1]=2*(x2-3)\n",
        "  g[2]=16*((x3+5)**3)\n",
        "\n",
        "  return g\n",
        "\n",
        "x0 = np.array([4,2, -1])\n",
        "x0 = np.reshape(x0, (3,1))\n",
        "\n",
        "x=SteepestDescent(func, grad, x0, 200, 1e-4)\n",
        "print(x)\n"
      ],
      "execution_count": 35,
      "outputs": [
        {
          "output_type": "stream",
          "name": "stdout",
          "text": [
            "1.0\n",
            "[[ 4.        ]\n",
            " [ 3.0000164 ]\n",
            " [-5.02249806]]\n"
          ]
        }
      ]
    }
  ]
}