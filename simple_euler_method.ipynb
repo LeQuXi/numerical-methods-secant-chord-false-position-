{
  "nbformat": 4,
  "nbformat_minor": 0,
  "metadata": {
    "colab": {
      "name": "simple_euler_method",
      "provenance": [],
      "authorship_tag": "ABX9TyNx/hHkDTZB695KyPoMy0Kq",
      "include_colab_link": true
    },
    "kernelspec": {
      "name": "python3",
      "display_name": "Python 3"
    },
    "language_info": {
      "name": "python"
    }
  },
  "cells": [
    {
      "cell_type": "markdown",
      "metadata": {
        "id": "view-in-github",
        "colab_type": "text"
      },
      "source": [
        "<a href=\"https://colab.research.google.com/github/LeQuXi/numerical-methods-secant-chord-false-position-/blob/main/simple_euler_method.ipynb\" target=\"_parent\"><img src=\"https://colab.research.google.com/assets/colab-badge.svg\" alt=\"Open In Colab\"/></a>"
      ]
    },
    {
      "cell_type": "code",
      "execution_count": null,
      "metadata": {
        "colab": {
          "base_uri": "https://localhost:8080/",
          "height": 297
        },
        "id": "jhbPG2v74qCK",
        "outputId": "9b7fb73a-e391-4dfe-fbcf-fc23d63a3570"
      },
      "outputs": [
        {
          "output_type": "execute_result",
          "data": {
            "text/plain": [
              "Text(0.5, 0, 't')"
            ]
          },
          "metadata": {},
          "execution_count": 1
        },
        {
          "output_type": "display_data",
          "data": {
            "image/png": "[encoded data removed]",
            "text/plain": [
              "<Figure size 432x288 with 1 Axes>"
            ]
          },
          "metadata": {
            "needs_background": "light"
          }
        }
      ],
      "source": [
        "import numpy as np\n",
        "import matplotlib.pyplot as plt\n",
        "from scipy.integrate import odeint\n",
        "\n",
        "#Euler's method\n",
        "\n",
        "def df(y, t, k, n):\n",
        "  return k*y*(n+1-y)\n",
        "\n",
        "m=0.2\n",
        "v0 = 50\n",
        "h0 = 100\n",
        "k1 = 0.01\n",
        "k2 = 0.005\n",
        "\n",
        "ttt = np.linspace(0, h0, 100)\n",
        "sol = odeint(df, y0, ttt, args = (k, n))\n",
        "plt.plot(ttt, sol, label = \"standard solution\", linewidth = 2)\n",
        "\n",
        "DT = [0.025, 0.05, 0.1, 0.2, 0.4, 0.8]\n",
        "for dt in DT:\n",
        "  n_iterations = int(Tmax/dt)\n",
        "  T = np.zeros((n_iterations +1, 1))\n",
        "  Y = np.zeros_like(T)\n",
        "  Y[0] = y0\n",
        "  for i in range(n_iterations):\n",
        "    t = i*dt\n",
        "    y = Y[i]\n",
        "    y = y + dt*df(y, t, k, n)\n",
        "    Y[i+1] = y\n",
        "    T[i+1] = (i+1)*dt\n",
        "\n",
        "  plt.plot(T, Y, label = str(dt))\n",
        "\n",
        "plt.legend()\n",
        "plt.xlabel('t')\n"
      ]
    }
  ]
}