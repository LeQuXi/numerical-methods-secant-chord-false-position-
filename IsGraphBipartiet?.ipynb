{
  "nbformat": 4,
  "nbformat_minor": 0,
  "metadata": {
    "colab": {
      "name": "IsGraphBipartiet?",
      "provenance": [],
      "collapsed_sections": [],
      "authorship_tag": "ABX9TyO0Pcsr76QmB7jobITN4zTT",
      "include_colab_link": true
    },
    "kernelspec": {
      "name": "python3",
      "display_name": "Python 3"
    },
    "language_info": {
      "name": "python"
    }
  },
  "cells": [
    {
      "cell_type": "markdown",
      "metadata": {
        "id": "view-in-github",
        "colab_type": "text"
      },
      "source": [
        "<a href=\"https://colab.research.google.com/github/LeQuXi/numerical-methods-secant-chord-false-position-/blob/main/IsGraphBipartiet%3F.ipynb\" target=\"_parent\"><img src=\"https://colab.research.google.com/assets/colab-badge.svg\" alt=\"Open In Colab\"/></a>"
      ]
    },
    {
      "cell_type": "code",
      "execution_count": null,
      "metadata": {
        "id": "MrT9cjdVdkfK"
      },
      "outputs": [],
      "source": [
        "def PickCol(G,colors,visited,u):\n",
        "    col = 1\n",
        "    for c in colors:\n",
        "        for v in G[u]:\n",
        "            if(visited[v] == c):\n",
        "                col = c+1\n",
        "\n",
        "        if(col==c):\n",
        "          return col\n",
        "   \n",
        "    return col"
      ]
    },
    {
      "cell_type": "code",
      "source": [
        "def func2(G):\n",
        "    n = len(G)\n",
        "    paints = []  \n",
        "    visited = [0]*n\n",
        "    # for i in range(len(G)):\n",
        "    #  print(coloring[1])\n",
        "\n",
        "    for u in range(n):\n",
        "        pain = PickCol(G,paints,visited,u)\n",
        "        paints.append(pain)\n",
        "        visited[u] = pain\n",
        "        print(paints)\n",
        "    return visited"
      ],
      "metadata": {
        "id": "mfsEHSGnduEY"
      },
      "execution_count": null,
      "outputs": []
    },
    {
      "cell_type": "code",
      "source": [
        "def func1():\n",
        "    paint = []\n",
        "    Vn, Em = map(int, input(print(\"insert vertecies and edges\")).split(','))\n",
        "    G= {}\n",
        "    for i in range(Vn):\n",
        "        G[i] = []    \n",
        "    print(\"Edge-List\")\n",
        "    for _ in range(Em):\n",
        "        e1, e2 = map(int, input().split(','))\n",
        "        print(e1)\n",
        "        print(e2)\n",
        "        G[e1-1].append(e2-1)\n",
        "        G[e2-1].append(e1-1)\n",
        "\n",
        "\n",
        "    c = func2(G)\n",
        "    #print(G)\n",
        "    # if(len(colors)==2):\n",
        "    #   print(\"Graph is Bipartite\")\n",
        "    a1=set()\n",
        "    a2=set()\n",
        "    print(\"Lst:\")\n",
        "    for i in range(Vn):\n",
        "        print(f\"{i+1} : {paint[c[i]]}\")\n",
        "        if(paint[c[i]] ==1):\n",
        "          a1.add((c[i],i+1))\n",
        "        elif(paint[c[i]]==2):\n",
        "          a2.add((c[i],i+1))\n",
        "        # if(c!=2):\n",
        "        #   print(\"Graph is not bipartiet\") \n",
        "    print(\"first set of V-(Color,Vertex)\",a1)\n",
        "    print(\"second set of V-(Color,Vertex)\",a2)\n",
        "    \n",
        "    \n",
        "   \n",
        "\n",
        "\n",
        "\n",
        "\n",
        "\n",
        "\n",
        "func1()"
      ],
      "metadata": {
        "colab": {
          "base_uri": "https://localhost:8080/"
        },
        "id": "TWV2hCWudx-p",
        "outputId": "25e9a37c-de2d-48ee-f0bd-915c2bb98878"
      },
      "execution_count": null,
      "outputs": [
        {
          "output_type": "stream",
          "name": "stdout",
          "text": [
            "insert vertecies and edges\n"
          ]
        }
      ]
    }
  ]
}